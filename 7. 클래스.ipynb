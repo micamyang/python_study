{
 "cells": [
  {
   "cell_type": "markdown",
   "id": "c5cd0a69-b06a-4a9e-b3c6-fcccea7f9ad6",
   "metadata": {},
   "source": [
    "클래스 기능 변경"
   ]
  },
  {
   "cell_type": "markdown",
   "id": "aeca1270-47c5-4763-b158-60e112360240",
   "metadata": {},
   "source": [
    "# 클래스는 1개 이상의 함수, 변수로 정의\n",
    "상속가능, 재사용 가능"
   ]
  },
  {
   "cell_type": "code",
   "execution_count": 67,
   "id": "24ba3622-0a69-4d25-bae2-c4833b8d18b0",
   "metadata": {},
   "outputs": [],
   "source": [
    "class cexam :\n",
    "    def fsam(self) :\n",
    "        self.text = '멤버 함수(메소드)'\n",
    "        print(self.text)"
   ]
  },
  {
   "cell_type": "code",
   "execution_count": 68,
   "id": "a6b691d7-8b87-4188-adcd-55c07733b51c",
   "metadata": {},
   "outputs": [],
   "source": [
    "ca = cexam() #객체생성"
   ]
  },
  {
   "cell_type": "code",
   "execution_count": 69,
   "id": "eb9c97a1-eb94-444f-b94d-4b11230e332b",
   "metadata": {},
   "outputs": [
    {
     "name": "stdout",
     "output_type": "stream",
     "text": [
      "<__main__.cexam object at 0x000001EC09096150>\n"
     ]
    }
   ],
   "source": [
    "print(ca)"
   ]
  },
  {
   "cell_type": "code",
   "execution_count": 70,
   "id": "bf0f0d78-3ee8-4f64-832a-2a37a4dab175",
   "metadata": {},
   "outputs": [
    {
     "name": "stdout",
     "output_type": "stream",
     "text": [
      "멤버 함수(메소드)\n"
     ]
    }
   ],
   "source": [
    "ca.fsam() #생성된 객체.멤버함수명 > 함수를 실행 "
   ]
  },
  {
   "cell_type": "code",
   "execution_count": 71,
   "id": "c974002d-4757-4a99-ace9-f4e3703ac44e",
   "metadata": {},
   "outputs": [],
   "source": [
    "class cexam :\n",
    "    def fsam(self) :\n",
    "        self.text = '멤버 함수(메소드)'\n",
    "        print(self.text)\n",
    "\n",
    "    def fsamb(self, pa) :\n",
    "        self.x = pa\n",
    "        print('멤버 변수 x는 ', self.x)"
   ]
  },
  {
   "cell_type": "code",
   "execution_count": 72,
   "id": "3770afe2-7569-4e8f-a7e3-0f3fab4ba2c6",
   "metadata": {},
   "outputs": [],
   "source": [
    "ca = cexam()"
   ]
  },
  {
   "cell_type": "code",
   "execution_count": 73,
   "id": "8c5833eb-b490-45cf-a1f9-753f3fe90655",
   "metadata": {},
   "outputs": [
    {
     "name": "stdout",
     "output_type": "stream",
     "text": [
      "멤버 함수(메소드)\n"
     ]
    }
   ],
   "source": [
    "ca.fsam()"
   ]
  },
  {
   "cell_type": "markdown",
   "id": "e1863935-f76c-452a-96cd-f78d6abad8bd",
   "metadata": {},
   "source": [
    "## 초기 메소드 __INIT__"
   ]
  },
  {
   "cell_type": "code",
   "execution_count": 74,
   "id": "af081db4-cbc1-4631-8807-4db439e18ace",
   "metadata": {},
   "outputs": [],
   "source": [
    "class cexam() :\n",
    "    def __init__ (self, pa) :\n",
    "        self.x = pa\n",
    "        print('멤버 변수 x는 ', self.x)\n",
    "    def fsam(self) :\n",
    "        self.text = '멤버 함수(메소드)'\n",
    "        print(self.text)"
   ]
  },
  {
   "cell_type": "code",
   "execution_count": 75,
   "id": "d21e4d2a-94f6-4b71-8c9c-7382d2a86a01",
   "metadata": {},
   "outputs": [
    {
     "name": "stdout",
     "output_type": "stream",
     "text": [
      "멤버 변수 x는  10\n"
     ]
    }
   ],
   "source": [
    "ca = cexam(10) #객체 생성과 동시에 10값을 __init__(pa)에 전달"
   ]
  },
  {
   "cell_type": "code",
   "execution_count": 76,
   "id": "4aeb1ce5-7613-4b73-8adc-2cfdbbbe5e52",
   "metadata": {},
   "outputs": [
    {
     "name": "stdout",
     "output_type": "stream",
     "text": [
      "멤버 함수(메소드)\n"
     ]
    }
   ],
   "source": [
    "ca.fsam()"
   ]
  },
  {
   "cell_type": "code",
   "execution_count": 77,
   "id": "f861f67b-de87-4347-9ae6-0f016774673e",
   "metadata": {},
   "outputs": [
    {
     "data": {
      "text/plain": [
       "10"
      ]
     },
     "execution_count": 77,
     "metadata": {},
     "output_type": "execute_result"
    }
   ],
   "source": [
    "ca.x"
   ]
  },
  {
   "cell_type": "markdown",
   "id": "13f8003b-391d-45b7-b4ba-bfe0b5cce701",
   "metadata": {},
   "source": [
    "## self의 의미"
   ]
  },
  {
   "cell_type": "code",
   "execution_count": 79,
   "id": "6e4c4e18-6e65-4118-8cd0-3446290fe933",
   "metadata": {},
   "outputs": [],
   "source": [
    "class cexam() :\n",
    "    def __init__ (self, pa, pb) :\n",
    "        self.x = pa\n",
    "        y = pb\n",
    "        print('멤버 변수 x는 ', self.x)\n",
    "        print('변수 y는 ', y)\n",
    "        \n",
    "    def fsam(self) :\n",
    "        self.text = '멤버 함수(메소드)'\n",
    "        print(self.text)\n",
    "\n",
    "    def fsamb() :\n",
    "        print('멤버 함수가 아닙니다.')"
   ]
  },
  {
   "cell_type": "code",
   "execution_count": 80,
   "id": "6b0a6fe9-625b-4d63-9e20-a1797b5036bf",
   "metadata": {},
   "outputs": [
    {
     "name": "stdout",
     "output_type": "stream",
     "text": [
      "멤버 변수 x는  10\n",
      "변수 y는  20\n"
     ]
    }
   ],
   "source": [
    "ca = cexam(10, 20)"
   ]
  },
  {
   "cell_type": "code",
   "execution_count": 81,
   "id": "d4adc748-a2bf-4676-ad6c-3b742dccd662",
   "metadata": {},
   "outputs": [
    {
     "name": "stdout",
     "output_type": "stream",
     "text": [
      "멤버 함수(메소드)\n"
     ]
    }
   ],
   "source": [
    "ca.fsam()"
   ]
  },
  {
   "cell_type": "code",
   "execution_count": 82,
   "id": "fa2b8afe-78d8-4e1a-8047-121d825721a6",
   "metadata": {},
   "outputs": [
    {
     "ename": "TypeError",
     "evalue": "cexam.fsamb() takes 0 positional arguments but 1 was given",
     "output_type": "error",
     "traceback": [
      "\u001b[1;31m---------------------------------------------------------------------------\u001b[0m",
      "\u001b[1;31mTypeError\u001b[0m                                 Traceback (most recent call last)",
      "Cell \u001b[1;32mIn[82], line 1\u001b[0m\n\u001b[1;32m----> 1\u001b[0m ca\u001b[38;5;241m.\u001b[39mfsamb()\n",
      "\u001b[1;31mTypeError\u001b[0m: cexam.fsamb() takes 0 positional arguments but 1 was given"
     ]
    }
   ],
   "source": [
    "ca.fsamb()"
   ]
  },
  {
   "cell_type": "markdown",
   "id": "ca3dd379-6d3d-4e74-ae79-a6e558d09ea9",
   "metadata": {},
   "source": [
    "## 파이썬에서 변수와 기억장소(메모리) 할당 "
   ]
  },
  {
   "cell_type": "code",
   "execution_count": 7,
   "id": "c4271163-c343-4a79-81f1-24aba2a29a10",
   "metadata": {},
   "outputs": [],
   "source": [
    "class Calculator :\n",
    "    def setinit(self) :\n",
    "        self.result = 0\n",
    "\n",
    "    def adder(self, num) :\n",
    "        self.result = self.result + num\n",
    "        return self.result"
   ]
  },
  {
   "cell_type": "code",
   "execution_count": 8,
   "id": "fcf32ab4-1ede-4c05-9f1f-4d8b0a74cbb6",
   "metadata": {},
   "outputs": [],
   "source": [
    "cal1 = Calculator()"
   ]
  },
  {
   "cell_type": "code",
   "execution_count": 9,
   "id": "0b1a83f4-aaa2-4fb3-bbce-1672068e95ba",
   "metadata": {},
   "outputs": [],
   "source": [
    "cal1.setinit()"
   ]
  },
  {
   "cell_type": "code",
   "execution_count": 10,
   "id": "21180f90-34a4-46e4-b3a4-4a7da1b3b6fa",
   "metadata": {},
   "outputs": [
    {
     "name": "stdout",
     "output_type": "stream",
     "text": [
      "0\n"
     ]
    }
   ],
   "source": [
    "print(cal1.result)"
   ]
  },
  {
   "cell_type": "code",
   "execution_count": 11,
   "id": "04fe3320-2c90-427e-aebe-581e8d34979b",
   "metadata": {},
   "outputs": [],
   "source": [
    "cal2 = Calculator()\n",
    "cal2.setinit()"
   ]
  },
  {
   "cell_type": "code",
   "execution_count": 12,
   "id": "ebb38f7b-3b37-4286-bdb1-3d06857c1f6d",
   "metadata": {},
   "outputs": [
    {
     "name": "stdout",
     "output_type": "stream",
     "text": [
      "0\n",
      "0\n"
     ]
    }
   ],
   "source": [
    "print(cal1.result)\n",
    "print(cal2.result)"
   ]
  },
  {
   "cell_type": "code",
   "execution_count": 13,
   "id": "9fbbd027-ec9b-4b46-a55e-2c0888d7ed98",
   "metadata": {},
   "outputs": [
    {
     "name": "stdout",
     "output_type": "stream",
     "text": [
      "3\n",
      "4\n"
     ]
    }
   ],
   "source": [
    "print(cal1.adder(3))\n",
    "print(cal2.adder(4))"
   ]
  },
  {
   "cell_type": "code",
   "execution_count": 14,
   "id": "99c2b253-aa53-4981-8bdf-1a9eb6246be6",
   "metadata": {},
   "outputs": [
    {
     "name": "stdout",
     "output_type": "stream",
     "text": [
      "10\n",
      "9\n"
     ]
    }
   ],
   "source": [
    "print(cal1.adder(7))\n",
    "print(cal2.adder(5))"
   ]
  },
  {
   "cell_type": "code",
   "execution_count": 16,
   "id": "8c82423b-880d-4ef1-af1e-bb8b2cee1fbc",
   "metadata": {},
   "outputs": [
    {
     "name": "stdout",
     "output_type": "stream",
     "text": [
      "6\n",
      "30\n"
     ]
    }
   ],
   "source": [
    "cal3 = Calculator()\n",
    "cal3.setinit()\n",
    "\n",
    "print(cal3.adder(6))\n",
    "print(cal3.adder(24))"
   ]
  },
  {
   "cell_type": "code",
   "execution_count": 17,
   "id": "fe0f772b-7d8b-45fe-a3ff-64e1cfd15ef4",
   "metadata": {},
   "outputs": [
    {
     "name": "stdout",
     "output_type": "stream",
     "text": [
      "10\n",
      "9\n",
      "30\n"
     ]
    }
   ],
   "source": [
    "print(cal1.result)\n",
    "print(cal2.result)\n",
    "print(cal3.result)"
   ]
  },
  {
   "cell_type": "code",
   "execution_count": 19,
   "id": "5b3b5925-556f-4f20-ac69-68d6286b9602",
   "metadata": {},
   "outputs": [
    {
     "name": "stdout",
     "output_type": "stream",
     "text": [
      "10\n"
     ]
    }
   ],
   "source": [
    "cal4 = Calculator()\n",
    "cal4.setinit()\n",
    "cal4.adder(10)\n",
    "print(cal4.result)"
   ]
  },
  {
   "cell_type": "markdown",
   "id": "ca6393f9-53d5-491a-a5e7-e0b8fc4c869a",
   "metadata": {},
   "source": [
    "## __INIT__ 메소드는 객체의 변수 값을 초기화 "
   ]
  },
  {
   "cell_type": "code",
   "execution_count": 20,
   "id": "cdf5a019-93de-4a9d-826d-5c33c4e3d90e",
   "metadata": {},
   "outputs": [],
   "source": [
    "class Calculator :\n",
    "    def __init__(self) :\n",
    "        self.result = 0\n",
    "\n",
    "    def adder(self, num) :\n",
    "        self.result = self.result + num\n",
    "        return self.result"
   ]
  },
  {
   "cell_type": "code",
   "execution_count": 22,
   "id": "7473dcda-186c-4bab-a68a-c6421bfc734f",
   "metadata": {},
   "outputs": [
    {
     "data": {
      "text/plain": [
       "10"
      ]
     },
     "execution_count": 22,
     "metadata": {},
     "output_type": "execute_result"
    }
   ],
   "source": [
    "cal5 = Calculator()\n",
    "cal5.adder(10)"
   ]
  },
  {
   "cell_type": "markdown",
   "id": "0cea9b90-be43-4a43-94a4-4277df584ee5",
   "metadata": {},
   "source": [
    "## 멤버 파라미터 값으로 변수 초기화 "
   ]
  },
  {
   "cell_type": "code",
   "execution_count": 26,
   "id": "ee9a3d6a-8588-4f3f-b677-5f4864e45295",
   "metadata": {},
   "outputs": [],
   "source": [
    "class Car :\n",
    "    def __init__(self, pnum, pspeed) :\n",
    "        self.num = pnum\n",
    "        self.speed = pspeed"
   ]
  },
  {
   "cell_type": "code",
   "execution_count": 27,
   "id": "c6e0248b-c951-4ee3-82c0-3ca80d40ba55",
   "metadata": {},
   "outputs": [],
   "source": [
    "new_car = Car(2025, 90)"
   ]
  },
  {
   "cell_type": "code",
   "execution_count": 28,
   "id": "27499cbb-2264-4c01-b20d-0ad4597c661d",
   "metadata": {},
   "outputs": [
    {
     "name": "stdout",
     "output_type": "stream",
     "text": [
      "차량번호는 2025, 최대 속도는 90입니다.\n"
     ]
    }
   ],
   "source": [
    "print(f'차량번호는 {new_car.num}, 최대 속도는 {new_car.speed}입니다.')"
   ]
  },
  {
   "cell_type": "code",
   "execution_count": 29,
   "id": "91299d9a-2cdb-4ba5-b629-8d2ac89f4193",
   "metadata": {},
   "outputs": [],
   "source": [
    "class Car :\n",
    "    def __init__(self, pnum, pspeed) :\n",
    "        self.num = pnum\n",
    "        self.speed = pspeed\n",
    "    def fprint(self) :\n",
    "        print(f'차량번호는 {new_car.num}, 최대 속도는 {new_car.speed}입니다.')"
   ]
  },
  {
   "cell_type": "code",
   "execution_count": 30,
   "id": "2d6a2021-757f-42a5-bbe0-9fc1114b0bba",
   "metadata": {},
   "outputs": [
    {
     "name": "stdout",
     "output_type": "stream",
     "text": [
      "차량번호는 2025, 최대 속도는 90입니다.\n"
     ]
    }
   ],
   "source": [
    "new_car = Car(2025, 90)\n",
    "new_car.fprint()"
   ]
  },
  {
   "cell_type": "markdown",
   "id": "2d449c6e-603e-4704-a92e-5b9782ca7a1f",
   "metadata": {},
   "source": [
    "## 사칙연산 프로그램 "
   ]
  },
  {
   "cell_type": "code",
   "execution_count": 34,
   "id": "bdfa5ad7-437c-47fc-ae47-dc10c5f74611",
   "metadata": {},
   "outputs": [
    {
     "name": "stdout",
     "output_type": "stream",
     "text": [
      "객채 obj 내의 인스턴스 변수 x의 값은 6, y의 값은 24입니다.\n",
      "두 변수의 합은 30입니다.\n"
     ]
    }
   ],
   "source": [
    "class Cadd : \n",
    "    def fadd(self, a, b) :\n",
    "        self.x = a\n",
    "        self.y = b\n",
    "        self.sum = self.x + self.y\n",
    "\n",
    "obj = Cadd()\n",
    "obj.fadd(6, 24)\n",
    "\n",
    "print(f'객채 obj 내의 인스턴스 변수 x의 값은 {obj.x}, y의 값은 {obj.y}입니다.\\n두 변수의 합은 {obj.sum}입니다.')"
   ]
  },
  {
   "cell_type": "code",
   "execution_count": 35,
   "id": "652475c5-05f6-4114-b2ea-d5e766de4f4a",
   "metadata": {},
   "outputs": [
    {
     "name": "stdout",
     "output_type": "stream",
     "text": [
      "osum의 값은 30입니다.\n"
     ]
    }
   ],
   "source": [
    "class Cadd : \n",
    "    def fadd(self, a, b) :\n",
    "        x = a\n",
    "        y = b\n",
    "        sum = x + y\n",
    "        return sum\n",
    "\n",
    "obj = Cadd()\n",
    "osum = obj.fadd(6, 24)\n",
    "\n",
    "print(f'osum의 값은 {osum}입니다.')"
   ]
  },
  {
   "cell_type": "code",
   "execution_count": 36,
   "id": "19197d6b-c7b3-4296-95eb-8100383cecf7",
   "metadata": {},
   "outputs": [
    {
     "name": "stdout",
     "output_type": "stream",
     "text": [
      "osum의 값은 30입니다.\n"
     ]
    }
   ],
   "source": [
    "class Cadd : #멤버 내의 함수\n",
    "    def fadd(self, a, b) :\n",
    "        self.x = a\n",
    "        self.y = b\n",
    "        self.sum = self.x + self.y\n",
    "        return self.sum\n",
    "\n",
    "obj = Cadd()\n",
    "osum = obj.fadd(6, 24)\n",
    "\n",
    "print(f'osum의 값은 {osum}입니다.')"
   ]
  },
  {
   "cell_type": "markdown",
   "id": "9500ed0b-0d10-438a-a83c-b4d1372d3ea9",
   "metadata": {},
   "source": [
    "## 객체 멤버함수의 파라미터에 초기값"
   ]
  },
  {
   "cell_type": "code",
   "execution_count": 37,
   "id": "b20a967c-3449-4efc-af96-ca882e516f35",
   "metadata": {},
   "outputs": [
    {
     "ename": "TypeError",
     "evalue": "Cadd.fadd() missing 2 required positional arguments: 'a' and 'b'",
     "output_type": "error",
     "traceback": [
      "\u001b[1;31m---------------------------------------------------------------------------\u001b[0m",
      "\u001b[1;31mTypeError\u001b[0m                                 Traceback (most recent call last)",
      "Cell \u001b[1;32mIn[37], line 9\u001b[0m\n\u001b[0;32m      6\u001b[0m         \u001b[38;5;28;01mreturn\u001b[39;00m \u001b[38;5;28mself\u001b[39m\u001b[38;5;241m.\u001b[39msum\n\u001b[0;32m      8\u001b[0m obj \u001b[38;5;241m=\u001b[39m Cadd()\n\u001b[1;32m----> 9\u001b[0m osum \u001b[38;5;241m=\u001b[39m obj\u001b[38;5;241m.\u001b[39mfadd()\n\u001b[0;32m     11\u001b[0m \u001b[38;5;28mprint\u001b[39m(\u001b[38;5;124mf\u001b[39m\u001b[38;5;124m'\u001b[39m\u001b[38;5;124mosum의 값은 \u001b[39m\u001b[38;5;132;01m{\u001b[39;00mosum\u001b[38;5;132;01m}\u001b[39;00m\u001b[38;5;124m입니다.\u001b[39m\u001b[38;5;124m'\u001b[39m)\n",
      "\u001b[1;31mTypeError\u001b[0m: Cadd.fadd() missing 2 required positional arguments: 'a' and 'b'"
     ]
    }
   ],
   "source": [
    "class Cadd : #멤버 내의 함수\n",
    "    def fadd(self, a, b) :\n",
    "        self.x = a\n",
    "        self.y = b\n",
    "        self.sum = self.x + self.y\n",
    "        return self.sum\n",
    "\n",
    "obj = Cadd()\n",
    "osum = obj.fadd(6, 24)\n",
    "\n",
    "print(f'osum의 값은 {osum}입니다.')"
   ]
  },
  {
   "cell_type": "code",
   "execution_count": 38,
   "id": "000c6238-c09a-4984-83cf-fb552eeba41e",
   "metadata": {},
   "outputs": [
    {
     "name": "stdout",
     "output_type": "stream",
     "text": [
      "osum의 값은 30입니다.\n"
     ]
    }
   ],
   "source": [
    "osum = obj.fadd(6, 24)\n",
    "\n",
    "print(f'osum의 값은 {osum}입니다.')"
   ]
  },
  {
   "cell_type": "code",
   "execution_count": null,
   "id": "e8592a78-7eb9-4091-b831-b7b035cb3652",
   "metadata": {},
   "outputs": [],
   "source": [
    "class Cadd : #멤버 내의 함수\n",
    "    def __init__(self, a = 6, b = 24) :\n",
    "        self.x = a\n",
    "        self.y = b\n",
    "        self.sum = self.x + self.y\n",
    "        return self.sum ##__init__\n"
   ]
  },
  {
   "cell_type": "markdown",
   "id": "30e525e9-a2e6-46d5-ab55-955b4d484fa9",
   "metadata": {},
   "source": [
    "## 연습문제"
   ]
  },
  {
   "cell_type": "code",
   "execution_count": 42,
   "id": "165f98f7-62cc-4dfc-9426-a7e25c9acd33",
   "metadata": {},
   "outputs": [],
   "source": [
    "class Ccalc :\n",
    "    def fadd(self, a, b) :\n",
    "        self.x = a\n",
    "        self.y = b\n",
    "        return self.x + self.y\n",
    "        \n",
    "    def fsub(self, a, b) :\n",
    "        self.x = a\n",
    "        self.y = b\n",
    "        return self.x - self.y\n",
    "        \n",
    "    def fmul(self, a, b) :\n",
    "        self.x = a\n",
    "        self.y = b\n",
    "        return self.x * self.y\n",
    "        \n",
    "    def fdiv(self, a, b) :\n",
    "        self.x = a\n",
    "        self.y = b\n",
    "        return self.x / self.y\n"
   ]
  },
  {
   "cell_type": "code",
   "execution_count": 46,
   "id": "6a6039c4-4b5a-4573-a613-0caa2635584a",
   "metadata": {},
   "outputs": [
    {
     "name": "stdout",
     "output_type": "stream",
     "text": [
      "Addition :  30\n",
      "Substraction :  -18\n",
      "Multiplication :  144\n",
      "Division :  0.25\n"
     ]
    }
   ],
   "source": [
    "cal1 = Ccalc()\n",
    "print('Addition : ', cal1.fadd(6, 24))\n",
    "print('Substraction : ', cal1.fsub(6, 24))\n",
    "print('Multiplication : ', cal1.fmul(6, 24))\n",
    "print('Division : ', cal1.fdiv(6, 24))"
   ]
  },
  {
   "cell_type": "code",
   "execution_count": 1,
   "id": "77d80dd7-be2a-41f8-9212-77ca3600455b",
   "metadata": {},
   "outputs": [],
   "source": [
    "from fcal import Fcalc, Fcala #fcal.py에 존재하는 클래스 Fcalc, Fcala를 불러온다."
   ]
  },
  {
   "cell_type": "code",
   "execution_count": 2,
   "id": "dd2a87c6-50b8-48b1-98fe-90adf518231f",
   "metadata": {},
   "outputs": [
    {
     "data": {
      "text/plain": [
       "16"
      ]
     },
     "execution_count": 2,
     "metadata": {},
     "output_type": "execute_result"
    }
   ],
   "source": [
    "cal2 = Fcalc()\n",
    "cal2.fsqrt(4)"
   ]
  },
  {
   "cell_type": "code",
   "execution_count": null,
   "id": "c5e76f3d-d631-4f29-91d4-5cfd39867b11",
   "metadata": {},
   "outputs": [],
   "source": []
  }
 ],
 "metadata": {
  "kernelspec": {
   "display_name": "Python 3 (ipykernel)",
   "language": "python",
   "name": "python3"
  },
  "language_info": {
   "codemirror_mode": {
    "name": "ipython",
    "version": 3
   },
   "file_extension": ".py",
   "mimetype": "text/x-python",
   "name": "python",
   "nbconvert_exporter": "python",
   "pygments_lexer": "ipython3",
   "version": "3.12.8"
  }
 },
 "nbformat": 4,
 "nbformat_minor": 5
}
