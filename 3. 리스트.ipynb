{
 "cells": [
  {
   "cell_type": "code",
   "execution_count": 39,
   "id": "c6cba46c-1265-44d2-9a3f-4995ab0345ca",
   "metadata": {},
   "outputs": [
    {
     "data": {
      "text/plain": [
       "'C:\\\\Users\\\\305'"
      ]
     },
     "execution_count": 39,
     "metadata": {},
     "output_type": "execute_result"
    }
   ],
   "source": [
    "import os\n",
    "os.getcwd() # get currunt worker directory"
   ]
  },
  {
   "cell_type": "code",
   "execution_count": 25,
   "id": "0948e5fb-2191-40af-922b-8f3b0e77fcb0",
   "metadata": {},
   "outputs": [
    {
     "data": {
      "text/plain": [
       "['삼성전자', 'sk 하이닉스', '네이버']"
      ]
     },
     "execution_count": 25,
     "metadata": {},
     "output_type": "execute_result"
    }
   ],
   "source": [
    "company_list = ['삼성전자', 'sk 하이닉스', '네이버']\n",
    "company_list"
   ]
  },
  {
   "cell_type": "code",
   "execution_count": 27,
   "id": "de8ddeaf-819a-49b3-8ca6-abb2bbccecd2",
   "metadata": {},
   "outputs": [
    {
     "name": "stdout",
     "output_type": "stream",
     "text": [
      "['삼성전자', 'sk 하이닉스', '네이버']\n"
     ]
    }
   ],
   "source": [
    "print(company_list)"
   ]
  },
  {
   "cell_type": "code",
   "execution_count": 29,
   "id": "db311c14-c44a-4705-b2ac-4229276467b8",
   "metadata": {},
   "outputs": [
    {
     "name": "stdout",
     "output_type": "stream",
     "text": [
      "삼성전자\n",
      "sk 하이닉스\n"
     ]
    },
    {
     "data": {
      "text/plain": [
       "'네이버'"
      ]
     },
     "execution_count": 29,
     "metadata": {},
     "output_type": "execute_result"
    }
   ],
   "source": [
    "print(company_list[0])\n",
    "print(company_list[1])\n",
    "company_list[-1]"
   ]
  },
  {
   "cell_type": "code",
   "execution_count": 31,
   "id": "c4e29660-c72a-487c-aded-558c75428f70",
   "metadata": {},
   "outputs": [
    {
     "data": {
      "text/plain": [
       "['apple', 'google', 'tesla']"
      ]
     },
     "execution_count": 31,
     "metadata": {},
     "output_type": "execute_result"
    }
   ],
   "source": [
    "company_list[0] = 'apple'\n",
    "company_list[1] = 'google'\n",
    "company_list[2] = 'tesla'\n",
    "company_list"
   ]
  },
  {
   "cell_type": "code",
   "execution_count": 33,
   "id": "54e53ce4-d174-4b90-a95d-ce3f3e3d8783",
   "metadata": {},
   "outputs": [
    {
     "data": {
      "text/plain": [
       "['apple', 'google', 'tesla', 'microsoft']"
      ]
     },
     "execution_count": 33,
     "metadata": {},
     "output_type": "execute_result"
    }
   ],
   "source": [
    "company_list.append('microsoft')\n",
    "company_list"
   ]
  },
  {
   "cell_type": "code",
   "execution_count": 35,
   "id": "970a73f3-400d-4f92-93e9-b9ef053a9b1c",
   "metadata": {},
   "outputs": [
    {
     "data": {
      "text/plain": [
       "['apple', 'google', 'microsoft']"
      ]
     },
     "execution_count": 35,
     "metadata": {},
     "output_type": "execute_result"
    }
   ],
   "source": [
    "del company_list[2]\n",
    "company_list"
   ]
  },
  {
   "cell_type": "code",
   "execution_count": 37,
   "id": "e0259abb-2880-4c70-b229-d473aceda995",
   "metadata": {},
   "outputs": [
    {
     "data": {
      "text/plain": [
       "3"
      ]
     },
     "execution_count": 37,
     "metadata": {},
     "output_type": "execute_result"
    }
   ],
   "source": [
    "len(company_list)"
   ]
  },
  {
   "cell_type": "code",
   "execution_count": 61,
   "id": "d32d0042-22df-491f-ac93-5f8296a667a0",
   "metadata": {},
   "outputs": [
    {
     "data": {
      "text/plain": [
       "[1, 2, 3, 4, 5, 6, 7, 8, 9, 10]"
      ]
     },
     "execution_count": 61,
     "metadata": {},
     "output_type": "execute_result"
    }
   ],
   "source": [
    "num_list = [1, 2, 3, 4, 5, 6, 7, 8, 9, 10]\n",
    "num_list"
   ]
  },
  {
   "cell_type": "code",
   "execution_count": 63,
   "id": "40c7edf0-713a-4c59-b6ff-c457d0c5bad9",
   "metadata": {},
   "outputs": [
    {
     "data": {
      "text/plain": [
       "1"
      ]
     },
     "execution_count": 63,
     "metadata": {},
     "output_type": "execute_result"
    }
   ],
   "source": [
    "num_list[0]"
   ]
  },
  {
   "cell_type": "code",
   "execution_count": 65,
   "id": "3baa644f-5149-43f3-9ab7-e4b7308c6f22",
   "metadata": {},
   "outputs": [
    {
     "data": {
      "text/plain": [
       "[1, 2, 3, 4]"
      ]
     },
     "execution_count": 65,
     "metadata": {},
     "output_type": "execute_result"
    }
   ],
   "source": [
    "num_list[0:4]"
   ]
  },
  {
   "cell_type": "code",
   "execution_count": 67,
   "id": "2ef2612a-26b1-4ad1-b14f-e0c937470d6c",
   "metadata": {},
   "outputs": [
    {
     "data": {
      "text/plain": [
       "[1, 2, 3, 4]"
      ]
     },
     "execution_count": 67,
     "metadata": {},
     "output_type": "execute_result"
    }
   ],
   "source": [
    "num_list[:4]"
   ]
  },
  {
   "cell_type": "code",
   "execution_count": 69,
   "id": "ec24861f-95dc-459c-adbb-38a18b039381",
   "metadata": {},
   "outputs": [
    {
     "data": {
      "text/plain": [
       "[3, 4, 5]"
      ]
     },
     "execution_count": 69,
     "metadata": {},
     "output_type": "execute_result"
    }
   ],
   "source": [
    "num_list[2:5]"
   ]
  },
  {
   "cell_type": "code",
   "execution_count": 71,
   "id": "63ef3f46-c5bf-45f0-b1e1-574a971b3e45",
   "metadata": {},
   "outputs": [
    {
     "data": {
      "text/plain": [
       "[6, 7, 8, 9, 10]"
      ]
     },
     "execution_count": 71,
     "metadata": {},
     "output_type": "execute_result"
    }
   ],
   "source": [
    "num_list[5:] #증가치 생략  "
   ]
  },
  {
   "cell_type": "code",
   "execution_count": 73,
   "id": "039455ec-340d-4dd5-a262-a59e4850f13b",
   "metadata": {},
   "outputs": [
    {
     "data": {
      "text/plain": [
       "[1, 3, 5, 7, 9]"
      ]
     },
     "execution_count": 73,
     "metadata": {},
     "output_type": "execute_result"
    }
   ],
   "source": [
    "num_list[::2] # 초기:목표-1:증가치"
   ]
  },
  {
   "cell_type": "code",
   "execution_count": 75,
   "id": "7105572f-3ad0-4167-a27a-c77781756a37",
   "metadata": {},
   "outputs": [
    {
     "name": "stdout",
     "output_type": "stream",
     "text": [
      "sword을(를) 확인했습니다.\n",
      "창닫기\n",
      "potion을(를) 확인했습니다.\n",
      "창닫기\n",
      "magical scroll을(를) 확인했습니다.\n",
      "창닫기\n"
     ]
    }
   ],
   "source": [
    "inventory = ['sword', 'potion', 'magical scroll']\n",
    "\n",
    "for item in inventory :\n",
    "    print(item + '을(를) 확인했습니다.')\n",
    "    print('창닫기')"
   ]
  },
  {
   "cell_type": "code",
   "execution_count": 83,
   "id": "670ad069-eab8-4789-b116-616167c233e3",
   "metadata": {},
   "outputs": [],
   "source": [
    "game_map = [ # 리스트 [   리스트 [  ], [  ], [  ]    ]\n",
    "    ['sword', 'potion', None], \n",
    "    [None, 'treasure chest', 'potion'], \n",
    "    ['monster', None, 'key']\n",
    "]"
   ]
  },
  {
   "cell_type": "code",
   "execution_count": 85,
   "id": "3c574e5e-c9f9-4cdf-a5e7-7ae5b05d12b4",
   "metadata": {},
   "outputs": [
    {
     "name": "stdout",
     "output_type": "stream",
     "text": [
      "['sword', 'potion', None]\n",
      "item  sword\n",
      "item  potion\n",
      "item  None\n",
      "[None, 'treasure chest', 'potion']\n",
      "item  None\n",
      "item  treasure chest\n",
      "item  potion\n",
      "['monster', None, 'key']\n",
      "item  monster\n",
      "item  None\n",
      "item  key\n"
     ]
    }
   ],
   "source": [
    "for game in game_map :\n",
    "    print(game)\n",
    "    for item in game :\n",
    "        print('item ', item)"
   ]
  },
  {
   "cell_type": "code",
   "execution_count": 87,
   "id": "c326a507-1e07-44b5-bfbf-159d6a7af75f",
   "metadata": {},
   "outputs": [
    {
     "data": {
      "text/plain": [
       "'key'"
      ]
     },
     "execution_count": 87,
     "metadata": {},
     "output_type": "execute_result"
    }
   ],
   "source": [
    "game_map[2][2] # 주의해서 사용할 것 "
   ]
  },
  {
   "cell_type": "code",
   "execution_count": 91,
   "id": "53720739-6612-472f-81de-364cfce914dd",
   "metadata": {},
   "outputs": [
    {
     "name": "stdout",
     "output_type": "stream",
     "text": [
      "최고 점수 :  200\n"
     ]
    }
   ],
   "source": [
    "scores = [120, 150, 180, 200, 178]\n",
    "max_score = 0\n",
    "for score in scores :\n",
    "    if score > max_score :\n",
    "        max_score = score\n",
    "print('최고 점수 : ', max_score)"
   ]
  },
  {
   "cell_type": "code",
   "execution_count": 111,
   "id": "65de10b4-2272-4c1d-94ee-fb0bf059ecc4",
   "metadata": {},
   "outputs": [
    {
     "data": {
      "text/plain": [
       "200"
      ]
     },
     "execution_count": 111,
     "metadata": {},
     "output_type": "execute_result"
    }
   ],
   "source": [
    "max(scores)"
   ]
  },
  {
   "cell_type": "code",
   "execution_count": 113,
   "id": "2a153901-49ac-4c89-ace1-454c6722fa41",
   "metadata": {},
   "outputs": [
    {
     "data": {
      "text/plain": [
       "120"
      ]
     },
     "execution_count": 113,
     "metadata": {},
     "output_type": "execute_result"
    }
   ],
   "source": [
    "min(scores)"
   ]
  },
  {
   "cell_type": "code",
   "execution_count": 115,
   "id": "db196f55-fd18-43f7-a72d-2f12c5b3a687",
   "metadata": {},
   "outputs": [
    {
     "ename": "TypeError",
     "evalue": "'int' object is not callable",
     "output_type": "error",
     "traceback": [
      "\u001b[1;31m---------------------------------------------------------------------------\u001b[0m",
      "\u001b[1;31mTypeError\u001b[0m                                 Traceback (most recent call last)",
      "Cell \u001b[1;32mIn[115], line 1\u001b[0m\n\u001b[1;32m----> 1\u001b[0m \u001b[38;5;28msum\u001b[39m(scores)\n",
      "\u001b[1;31mTypeError\u001b[0m: 'int' object is not callable"
     ]
    }
   ],
   "source": [
    "sum(scores)"
   ]
  },
  {
   "cell_type": "code",
   "execution_count": 117,
   "id": "016eabb5-7655-4962-91ad-2fa4a59b867d",
   "metadata": {},
   "outputs": [
    {
     "name": "stdout",
     "output_type": "stream",
     "text": [
      "sum :  828\n"
     ]
    }
   ],
   "source": [
    "sum1 = 0\n",
    "for score in scores :\n",
    "    sum1 += score\n",
    "print('sum : ', sum1)"
   ]
  },
  {
   "cell_type": "code",
   "execution_count": 125,
   "id": "63242a29-2d8d-44ab-8959-203b30df4e28",
   "metadata": {},
   "outputs": [
    {
     "ename": "TypeError",
     "evalue": "'int' object is not callable",
     "output_type": "error",
     "traceback": [
      "\u001b[1;31m---------------------------------------------------------------------------\u001b[0m",
      "\u001b[1;31mTypeError\u001b[0m                                 Traceback (most recent call last)",
      "Cell \u001b[1;32mIn[125], line 10\u001b[0m\n\u001b[0;32m      8\u001b[0m sum2 \u001b[38;5;241m=\u001b[39m \u001b[38;5;241m0\u001b[39m\n\u001b[0;32m      9\u001b[0m \u001b[38;5;28;01mfor\u001b[39;00m room \u001b[38;5;129;01min\u001b[39;00m rooms :\n\u001b[1;32m---> 10\u001b[0m     sum2 \u001b[38;5;241m+\u001b[39m\u001b[38;5;241m=\u001b[39m \u001b[38;5;28msum\u001b[39m(room)\n\u001b[0;32m     11\u001b[0m \u001b[38;5;28mprint\u001b[39m(sum2)\n",
      "\u001b[1;31mTypeError\u001b[0m: 'int' object is not callable"
     ]
    }
   ],
   "source": [
    "# 실습 문제 : 합계 구하기 \n",
    "rooms = [\n",
    "    [3, 2, 1],\n",
    "    [2, 0, 1],\n",
    "    [1, 3, 4]\n",
    "]\n",
    "\n",
    "sum2 = 0\n",
    "for room in rooms :\n",
    "    sum2 += sum(room)\n",
    "print(sum2)"
   ]
  },
  {
   "cell_type": "code",
   "execution_count": null,
   "id": "ddf63e75-e053-4d00-bf54-1bf308af1761",
   "metadata": {},
   "outputs": [],
   "source": []
  }
 ],
 "metadata": {
  "kernelspec": {
   "display_name": "Python [conda env:base] *",
   "language": "python",
   "name": "conda-base-py"
  },
  "language_info": {
   "codemirror_mode": {
    "name": "ipython",
    "version": 3
   },
   "file_extension": ".py",
   "mimetype": "text/x-python",
   "name": "python",
   "nbconvert_exporter": "python",
   "pygments_lexer": "ipython3",
   "version": "3.12.7"
  }
 },
 "nbformat": 4,
 "nbformat_minor": 5
}
