{
 "cells": [
  {
   "cell_type": "markdown",
   "id": "e7a8c569-7da1-4553-b9e8-03b6aceab64c",
   "metadata": {},
   "source": [
    "# 최댓값 구하기"
   ]
  },
  {
   "cell_type": "code",
   "execution_count": 3,
   "id": "85531455-dec4-4357-8491-11fffc472944",
   "metadata": {},
   "outputs": [
    {
     "data": {
      "text/plain": [
       "17"
      ]
     },
     "execution_count": 3,
     "metadata": {},
     "output_type": "execute_result"
    }
   ],
   "source": [
    "ca = [10, 17, 13, 11]\n",
    "max(ca)"
   ]
  },
  {
   "cell_type": "markdown",
   "id": "4f0a81c7-38d2-4de7-b80b-2b12604ef3df",
   "metadata": {},
   "source": [
    "# 원소의 정렬(sort)"
   ]
  },
  {
   "cell_type": "code",
   "execution_count": 16,
   "id": "fad2a2d9-a508-4a97-a9f3-4d2922606729",
   "metadata": {},
   "outputs": [
    {
     "name": "stdout",
     "output_type": "stream",
     "text": [
      "[10, 21, 11, 15, 13]\n",
      "[10, 11, 21, 15, 13]\n",
      "[10, 21, 11, 15, 13]\n",
      "[10, 21, 15, 11, 13]\n"
     ]
    }
   ],
   "source": [
    "ca = [21, 10, 11, 15, 13]\n",
    "\n",
    "for sa in range(0, len(ca) - 1) :\n",
    "    mina = ca[sa]\n",
    "    minx = 1\n",
    "\n",
    "    for sb in range(1, len(ca)) :\n",
    "        if mina > ca[sb] :\n",
    "            mina = ca[sb]\n",
    "            minx = sb\n",
    "\n",
    "    temp = ca[sa]\n",
    "    ca[sa] = ca[minx]\n",
    "    ca[minx] = temp\n",
    "\n",
    "    print(ca)"
   ]
  },
  {
   "cell_type": "code",
   "execution_count": 20,
   "id": "31f16ef5-f187-4733-898d-bce4257e0ed1",
   "metadata": {},
   "outputs": [],
   "source": [
    "def user_sort(ca) :\n",
    "   \n",
    "    for sa in range(0, len(ca) - 1) :\n",
    "        mina = ca[sa]\n",
    "        minx = 1\n",
    "    \n",
    "        for sb in range(1, len(ca)) :\n",
    "            if mina > ca[sb] :\n",
    "                mina = ca[sb]\n",
    "                minx = sb\n",
    "    \n",
    "        temp = ca[sa]\n",
    "        ca[sa] = ca[minx]\n",
    "        ca[minx] = temp"
   ]
  },
  {
   "cell_type": "code",
   "execution_count": 22,
   "id": "51605caa-752f-4489-9e09-91daa0dfd03d",
   "metadata": {},
   "outputs": [
    {
     "name": "stdout",
     "output_type": "stream",
     "text": [
      "[10, 21, 15, 11, 13]\n"
     ]
    }
   ],
   "source": [
    "ca = [21, 10, 11, 15, 13]\n",
    "user_sort(ca)\n",
    "print(ca)"
   ]
  },
  {
   "cell_type": "code",
   "execution_count": 24,
   "id": "6390f4f7-5eb0-462a-80d1-bb3b5eaaf86f",
   "metadata": {},
   "outputs": [
    {
     "name": "stdout",
     "output_type": "stream",
     "text": [
      "[10, 11, 13, 15, 21]\n"
     ]
    }
   ],
   "source": [
    "ca = [21, 10, 11, 15, 13]\n",
    "ca.sort()\n",
    "print(ca)"
   ]
  },
  {
   "cell_type": "code",
   "execution_count": 26,
   "id": "eb959ee1-6f31-4c8c-a276-c1a3780bb730",
   "metadata": {},
   "outputs": [
    {
     "name": "stdout",
     "output_type": "stream",
     "text": [
      "[21, 15, 13, 11, 10]\n"
     ]
    }
   ],
   "source": [
    "ca = [21, 10, 11, 15, 13]\n",
    "ca.sort(reverse = True)\n",
    "print(ca)"
   ]
  },
  {
   "cell_type": "markdown",
   "id": "b634a479-ce14-4ab5-9ea2-aa16540f47af",
   "metadata": {},
   "source": [
    "# 딕셔너리를 매개변수로 사용하는 방법 \n",
    "딕셔너리 (key, value)"
   ]
  },
  {
   "cell_type": "code",
   "execution_count": 35,
   "id": "02b8367f-66b4-406b-92ce-bba020125a09",
   "metadata": {},
   "outputs": [
    {
     "name": "stdout",
     "output_type": "stream",
     "text": [
      "{'mon': '월', 'tue': '화', 'wed': '수'}\n"
     ]
    }
   ],
   "source": [
    "a = {'mon' : '월', 'tue' : '화', 'wed' : '수'}\n",
    "print(a)"
   ]
  },
  {
   "cell_type": "code",
   "execution_count": 31,
   "id": "19680186-79d9-4949-9eb3-517a32441ccb",
   "metadata": {},
   "outputs": [
    {
     "name": "stdout",
     "output_type": "stream",
     "text": [
      "{'mon': '월', 'tue': '화', 'wed': '수'}\n"
     ]
    }
   ],
   "source": [
    "x = a\n",
    "print(x)"
   ]
  },
  {
   "cell_type": "code",
   "execution_count": 33,
   "id": "09fef24d-ab20-4144-8ce6-3ed53fb11fd8",
   "metadata": {},
   "outputs": [
    {
     "name": "stdout",
     "output_type": "stream",
     "text": [
      "{'mon': '일', 'tue': '화', 'wed': '수'}\n",
      "{'mon': '일', 'tue': '화', 'wed': '수'}\n"
     ]
    }
   ],
   "source": [
    "x['mon'] = '일'\n",
    "print(x)\n",
    "print(a)"
   ]
  },
  {
   "cell_type": "code",
   "execution_count": 37,
   "id": "4f082bd5-7ea5-48f7-9b0c-65097e077691",
   "metadata": {},
   "outputs": [],
   "source": [
    "def fch(x) :\n",
    "    x['mon'] = '일'"
   ]
  },
  {
   "cell_type": "code",
   "execution_count": 39,
   "id": "7259ccb6-aa6f-4676-9f4a-fed3709cd339",
   "metadata": {},
   "outputs": [
    {
     "name": "stdout",
     "output_type": "stream",
     "text": [
      "{'mon': '일', 'tue': '화', 'wed': '수'}\n",
      "{'mon': '월', 'tue': '화', 'wed': '수'}\n"
     ]
    }
   ],
   "source": [
    "fch(x)\n",
    "print(x)\n",
    "print(a)"
   ]
  },
  {
   "cell_type": "markdown",
   "id": "a7080de7-d8dd-48dd-8710-01cf42ec77e9",
   "metadata": {},
   "source": [
    "# *args 에서 *의 의미\n",
    ": 매개변수가 유동적일때 \"*\"를 사용"
   ]
  },
  {
   "cell_type": "code",
   "execution_count": 43,
   "id": "a4e7cd30-3073-44f0-82e0-2ff7d49a2ad1",
   "metadata": {},
   "outputs": [],
   "source": [
    "def my_func(*kwargs) :\n",
    "    for arg in args :\n",
    "        print(arg)"
   ]
  },
  {
   "cell_type": "code",
   "execution_count": 45,
   "id": "867f3a05-4afb-4dc7-988c-e660a5a225d5",
   "metadata": {},
   "outputs": [],
   "source": [
    "def my_func(**kwargs) :\n",
    "    for key, value in kwargs.items() :\n",
    "        print('key :', key, 'value :', value)"
   ]
  },
  {
   "cell_type": "code",
   "execution_count": null,
   "id": "99040a63-846c-4915-932b-26b60edb9ba4",
   "metadata": {},
   "outputs": [],
   "source": []
  }
 ],
 "metadata": {
  "kernelspec": {
   "display_name": "Python [conda env:py312tf2]",
   "language": "python",
   "name": "conda-env-py312tf2-py"
  },
  "language_info": {
   "codemirror_mode": {
    "name": "ipython",
    "version": 3
   },
   "file_extension": ".py",
   "mimetype": "text/x-python",
   "name": "python",
   "nbconvert_exporter": "python",
   "pygments_lexer": "ipython3",
   "version": "3.12.8"
  }
 },
 "nbformat": 4,
 "nbformat_minor": 5
}
