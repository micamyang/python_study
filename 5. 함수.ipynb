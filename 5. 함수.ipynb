{
 "cells": [
  {
   "cell_type": "code",
   "execution_count": 11,
   "id": "decf929c-42e5-4f78-8182-41f9142546cd",
   "metadata": {},
   "outputs": [],
   "source": [
    "# 함수는  def 함수명(함수 안에서 사용할 변수들) : \n",
    "\n",
    "def add(a, b) :\n",
    "    return a + b\n",
    "\n",
    "def sub(a, b) :\n",
    "    return a - b\n",
    "\n",
    "def mul(a, b) :\n",
    "    return a * b\n",
    "\n",
    "def div(a, b) :\n",
    "    return a / b"
   ]
  },
  {
   "cell_type": "code",
   "execution_count": 13,
   "id": "4d76623f-c174-435f-8f9e-4bbbc3fd5259",
   "metadata": {},
   "outputs": [
    {
     "data": {
      "text/plain": [
       "3"
      ]
     },
     "execution_count": 13,
     "metadata": {},
     "output_type": "execute_result"
    }
   ],
   "source": [
    "add(1, 2)"
   ]
  },
  {
   "cell_type": "code",
   "execution_count": 15,
   "id": "d3736d4e-a1e2-4a44-9f36-3adce2fc1dc7",
   "metadata": {},
   "outputs": [
    {
     "data": {
      "text/plain": [
       "3"
      ]
     },
     "execution_count": 15,
     "metadata": {},
     "output_type": "execute_result"
    }
   ],
   "source": [
    "c = 1\n",
    "d = 2\n",
    "add(c, d)"
   ]
  },
  {
   "cell_type": "code",
   "execution_count": 17,
   "id": "1f7037ee-d6c7-43e4-8bd5-363cc37f7fbd",
   "metadata": {},
   "outputs": [
    {
     "data": {
      "text/plain": [
       "-1"
      ]
     },
     "execution_count": 17,
     "metadata": {},
     "output_type": "execute_result"
    }
   ],
   "source": [
    "sub(1, 2)"
   ]
  },
  {
   "cell_type": "code",
   "execution_count": 19,
   "id": "4f627282-a173-442e-a70b-da0dec8752b8",
   "metadata": {},
   "outputs": [
    {
     "data": {
      "text/plain": [
       "2"
      ]
     },
     "execution_count": 19,
     "metadata": {},
     "output_type": "execute_result"
    }
   ],
   "source": [
    "mul(1, 2)"
   ]
  },
  {
   "cell_type": "code",
   "execution_count": 21,
   "id": "f13259a7-cd25-4160-a5f5-864435ab5328",
   "metadata": {},
   "outputs": [
    {
     "data": {
      "text/plain": [
       "0.5"
      ]
     },
     "execution_count": 21,
     "metadata": {},
     "output_type": "execute_result"
    }
   ],
   "source": [
    "div(1, 2)"
   ]
  },
  {
   "cell_type": "code",
   "execution_count": 25,
   "id": "e2de7be5-8c0f-4950-b4ef-0ccd624c3e9d",
   "metadata": {},
   "outputs": [],
   "source": [
    "def user_avrg(a, b, c) :\n",
    "    avrg = (a + b + c) / 3\n",
    "    return avrg"
   ]
  },
  {
   "cell_type": "code",
   "execution_count": 27,
   "id": "ce0b659c-1e5f-4078-9c51-eb05728d6c0c",
   "metadata": {},
   "outputs": [],
   "source": [
    "def user_avrg(a, b, c) :\n",
    "    global avg # 전역변수 \n",
    "    avg = (a + b + c) / 3\n",
    "    return avrg"
   ]
  },
  {
   "cell_type": "code",
   "execution_count": 31,
   "id": "3e02e2fc-83ca-47e3-9ece-1a71687b7c64",
   "metadata": {},
   "outputs": [
    {
     "name": "stdout",
     "output_type": "stream",
     "text": [
      "10 20\n",
      "20 10\n"
     ]
    }
   ],
   "source": [
    "def swapa(pa, pb) :\n",
    "    temp = pa\n",
    "    pa = pb\n",
    "    pb = temp\n",
    "    return pa, pb\n",
    "\n",
    "na = 10\n",
    "nb = 20\n",
    "\n",
    "print(na, nb)\n",
    "na, nb = swapa(na, nb)\n",
    "print(na, nb)"
   ]
  },
  {
   "cell_type": "code",
   "execution_count": null,
   "id": "144e8966-ee5d-448a-af12-1865158c9e4a",
   "metadata": {},
   "outputs": [],
   "source": []
  }
 ],
 "metadata": {
  "kernelspec": {
   "display_name": "Python [conda env:py312tf2]",
   "language": "python",
   "name": "conda-env-py312tf2-py"
  },
  "language_info": {
   "codemirror_mode": {
    "name": "ipython",
    "version": 3
   },
   "file_extension": ".py",
   "mimetype": "text/x-python",
   "name": "python",
   "nbconvert_exporter": "python",
   "pygments_lexer": "ipython3",
   "version": "3.12.8"
  }
 },
 "nbformat": 4,
 "nbformat_minor": 5
}
