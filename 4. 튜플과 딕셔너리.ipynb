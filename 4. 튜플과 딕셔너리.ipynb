{
 "cells": [
  {
   "cell_type": "code",
   "execution_count": 2,
   "id": "aeb061fc-2cbd-4db6-b50a-bdd7e8f1e4a0",
   "metadata": {},
   "outputs": [
    {
     "data": {
      "text/plain": [
       "('스쿼트', '런지', '레그컬')"
      ]
     },
     "execution_count": 2,
     "metadata": {},
     "output_type": "execute_result"
    }
   ],
   "source": [
    "#튜플은 프로그램이 시작되면 내용을 변경할 수 없음 \n",
    "#중요 개인정보 데이터 처리할 때 사용 \n",
    "\n",
    "leg_day = ('스쿼트', '런지', '레그컬')\n",
    "leg_day"
   ]
  },
  {
   "cell_type": "code",
   "execution_count": 4,
   "id": "03a494a9-d33e-4033-8a0e-2aa74bae5ad8",
   "metadata": {},
   "outputs": [
    {
     "data": {
      "text/plain": [
       "'스쿼트'"
      ]
     },
     "execution_count": 4,
     "metadata": {},
     "output_type": "execute_result"
    }
   ],
   "source": [
    "leg_day[0]"
   ]
  },
  {
   "cell_type": "code",
   "execution_count": 6,
   "id": "058d6866-3c6f-4ee1-a16a-8ad01a364d49",
   "metadata": {},
   "outputs": [
    {
     "ename": "TypeError",
     "evalue": "'tuple' object does not support item assignment",
     "output_type": "error",
     "traceback": [
      "\u001b[1;31m---------------------------------------------------------------------------\u001b[0m",
      "\u001b[1;31mTypeError\u001b[0m                                 Traceback (most recent call last)",
      "Cell \u001b[1;32mIn[6], line 1\u001b[0m\n\u001b[1;32m----> 1\u001b[0m leg_day[\u001b[38;5;241m0\u001b[39m] \u001b[38;5;241m=\u001b[39m \u001b[38;5;124m'\u001b[39m\u001b[38;5;124m벤치프레스\u001b[39m\u001b[38;5;124m'\u001b[39m\n",
      "\u001b[1;31mTypeError\u001b[0m: 'tuple' object does not support item assignment"
     ]
    }
   ],
   "source": [
    "leg_day[0] = '벤치프레스' # error! "
   ]
  },
  {
   "cell_type": "code",
   "execution_count": 8,
   "id": "fc999bda-686b-4e14-9b88-36fd662ac362",
   "metadata": {},
   "outputs": [
    {
     "ename": "AttributeError",
     "evalue": "'tuple' object has no attribute 'append'",
     "output_type": "error",
     "traceback": [
      "\u001b[1;31m---------------------------------------------------------------------------\u001b[0m",
      "\u001b[1;31mAttributeError\u001b[0m                            Traceback (most recent call last)",
      "Cell \u001b[1;32mIn[8], line 1\u001b[0m\n\u001b[1;32m----> 1\u001b[0m leg_day\u001b[38;5;241m.\u001b[39mappend(\u001b[38;5;124m'\u001b[39m\u001b[38;5;124m숄더 프레스\u001b[39m\u001b[38;5;124m'\u001b[39m)\n",
      "\u001b[1;31mAttributeError\u001b[0m: 'tuple' object has no attribute 'append'"
     ]
    }
   ],
   "source": [
    "leg_day.append('숄더 프레스') # error!"
   ]
  },
  {
   "cell_type": "code",
   "execution_count": 10,
   "id": "aa5c6dad-a1a1-4765-a0c7-5c4ab2e2c5fb",
   "metadata": {},
   "outputs": [
    {
     "ename": "TypeError",
     "evalue": "'tuple' object doesn't support item deletion",
     "output_type": "error",
     "traceback": [
      "\u001b[1;31m---------------------------------------------------------------------------\u001b[0m",
      "\u001b[1;31mTypeError\u001b[0m                                 Traceback (most recent call last)",
      "Cell \u001b[1;32mIn[10], line 1\u001b[0m\n\u001b[1;32m----> 1\u001b[0m \u001b[38;5;28;01mdel\u001b[39;00m leg_day[\u001b[38;5;241m0\u001b[39m]\n",
      "\u001b[1;31mTypeError\u001b[0m: 'tuple' object doesn't support item deletion"
     ]
    }
   ],
   "source": [
    "del leg_day[0] # error! "
   ]
  },
  {
   "cell_type": "code",
   "execution_count": 12,
   "id": "90b3c77e-5867-40ed-ab61-25d3a5fc9f76",
   "metadata": {},
   "outputs": [
    {
     "data": {
      "text/plain": [
       "{'삼성전자': 60000, 'sk 하이닉스': 140000, '네이버': 350000}"
      ]
     },
     "execution_count": 12,
     "metadata": {},
     "output_type": "execute_result"
    }
   ],
   "source": [
    "#딕셔너리 { key : value } \n",
    "\n",
    "stock_prices = {\n",
    "    '삼성전자' : 60000,\n",
    "    'sk 하이닉스' : 140000,\n",
    "    '네이버' : 350000\n",
    "} \n",
    "\n",
    "stock_prices"
   ]
  },
  {
   "cell_type": "code",
   "execution_count": 14,
   "id": "e5b6d28e-7904-4be9-8f4c-0821af591f41",
   "metadata": {},
   "outputs": [
    {
     "data": {
      "text/plain": [
       "350000"
      ]
     },
     "execution_count": 14,
     "metadata": {},
     "output_type": "execute_result"
    }
   ],
   "source": [
    "stock_prices['네이버']"
   ]
  },
  {
   "cell_type": "code",
   "execution_count": 16,
   "id": "012d5613-364a-4cec-a134-b60ef7a0cfd8",
   "metadata": {},
   "outputs": [
    {
     "name": "stdout",
     "output_type": "stream",
     "text": [
      "삼성전자\n",
      "sk 하이닉스\n",
      "네이버\n"
     ]
    }
   ],
   "source": [
    "for key_value in stock_prices :\n",
    "    print(key_value)"
   ]
  },
  {
   "cell_type": "code",
   "execution_count": 20,
   "id": "fb8462af-e8c2-42c4-a419-0d5b626e8a6f",
   "metadata": {},
   "outputs": [
    {
     "name": "stdout",
     "output_type": "stream",
     "text": [
      "삼성전자\n",
      "sk 하이닉스\n",
      "네이버\n"
     ]
    }
   ],
   "source": [
    "for key in stock_prices.keys() :\n",
    "    print(key)"
   ]
  },
  {
   "cell_type": "code",
   "execution_count": 22,
   "id": "7c8782ed-3be4-42c6-9a56-83a79507d957",
   "metadata": {},
   "outputs": [
    {
     "name": "stdout",
     "output_type": "stream",
     "text": [
      "60000\n",
      "140000\n",
      "350000\n"
     ]
    }
   ],
   "source": [
    "for value in stock_prices.values() :\n",
    "    print(value)"
   ]
  },
  {
   "cell_type": "code",
   "execution_count": 24,
   "id": "b10311af-1e95-4a59-9de1-204b46dc7b8a",
   "metadata": {},
   "outputs": [
    {
     "name": "stdout",
     "output_type": "stream",
     "text": [
      "삼성전자 60000\n",
      "sk 하이닉스 140000\n",
      "네이버 350000\n"
     ]
    }
   ],
   "source": [
    "for key, value in stock_prices.items() :\n",
    "    print(key, value)"
   ]
  },
  {
   "cell_type": "code",
   "execution_count": 34,
   "id": "333ed920-f695-4dfa-8449-46426e372090",
   "metadata": {},
   "outputs": [
    {
     "name": "stdout",
     "output_type": "stream",
     "text": [
      "삼성전자 [60000, 65000, 62000]\n",
      "sk 하이닉스 [140000, 141000, 150000, 140000]\n",
      "네이버 [350000, 320000, 280000]\n"
     ]
    }
   ],
   "source": [
    "stock_prices = {\n",
    "    '삼성전자' : [60000, 65000, 62000],\n",
    "    'sk 하이닉스' : [140000, 141000, 150000, 140000],\n",
    "    '네이버' : [350000, 320000, 280000]\n",
    "} \n",
    "\n",
    "for key, value in stock_prices.items() :\n",
    "    print(key, value)"
   ]
  },
  {
   "cell_type": "code",
   "execution_count": 38,
   "id": "a05a12cc-550b-41bb-b6b1-9462ca6d2387",
   "metadata": {},
   "outputs": [
    {
     "name": "stdout",
     "output_type": "stream",
     "text": [
      " 삼성전자의 평균 주가는 62333원 입니다.\n",
      " sk 하이닉스의 평균 주가는 142750원 입니다.\n",
      " 네이버의 평균 주가는 316666원 입니다.\n"
     ]
    }
   ],
   "source": [
    "for key, value in stock_prices.items() :\n",
    "    avg = sum(value)/len(value)\n",
    "    print(f'{key}의 평균 주가는 {int(avg)}원 입니다.' )"
   ]
  },
  {
   "cell_type": "code",
   "execution_count": 40,
   "id": "46746d8f-7323-4a82-b11b-056640193a48",
   "metadata": {},
   "outputs": [
    {
     "name": "stdout",
     "output_type": "stream",
     "text": [
      "삼성전자 {'최고가': 80000, '최저가': 50000, '현재가': 61000}\n",
      "sk 하이닉스 {'최고가': 160000, '최저가': 142000, '현재가': 153000}\n",
      "네이버 {'최고가': 400000, '최저가': 280000, '현재가': 282000}\n"
     ]
    }
   ],
   "source": [
    "stock_prices = {\n",
    "    '삼성전자' : {'최고가' : 80000, '최저가' : 50000, '현재가' : 61000},\n",
    "    'sk 하이닉스' : {'최고가' : 160000, '최저가' : 142000, '현재가' : 153000},\n",
    "    '네이버' : {'최고가' : 400000, '최저가' : 280000, '현재가' : 282000}\n",
    "} \n",
    "\n",
    "for key, value in stock_prices.items() :\n",
    "    print(key, value)"
   ]
  },
  {
   "cell_type": "code",
   "execution_count": 46,
   "id": "f8e76c3d-f6c8-4efe-bbcf-e0d15cb5e31d",
   "metadata": {},
   "outputs": [
    {
     "name": "stdout",
     "output_type": "stream",
     "text": [
      " 삼성전자의 최고가는 80000원, 최저가는 50000원 입니다.\n",
      " sk 하이닉스의 최고가는 160000원, 최저가는 142000원 입니다.\n",
      " 네이버의 최고가는 400000원, 최저가는 280000원 입니다.\n"
     ]
    }
   ],
   "source": [
    "for key, value in stock_prices.items() :\n",
    "    min = value['최저가']\n",
    "    max = value['최고가']\n",
    "    print( f'{key}의 최고가는 {max}원, 최저가는 {min}원 입니다.')"
   ]
  },
  {
   "cell_type": "code",
   "execution_count": 50,
   "id": "ba253ba7-053e-4db0-bca1-6cccfd3929d2",
   "metadata": {},
   "outputs": [
    {
     "name": "stdout",
     "output_type": "stream",
     "text": [
      "삼성전자의 최고가는 80000원, 최저가는 50000원 입니다.\n",
      "sk 하이닉스의 최고가는 160000원, 최저가는 142000원 입니다.\n",
      "네이버의 최고가는 400000원, 최저가는 280000원 입니다.\n"
     ]
    }
   ],
   "source": [
    "for key, value in stock_prices.items() :\n",
    "    print( f'{key}의 최고가는 {value['최고가']}원, 최저가는 {value['최저가']}원 입니다.')"
   ]
  },
  {
   "cell_type": "code",
   "execution_count": null,
   "id": "5a6873ee-9b0b-4541-b1a2-89e74487a160",
   "metadata": {},
   "outputs": [],
   "source": []
  }
 ],
 "metadata": {
  "kernelspec": {
   "display_name": "Python [conda env:py312tf2]",
   "language": "python",
   "name": "conda-env-py312tf2-py"
  },
  "language_info": {
   "codemirror_mode": {
    "name": "ipython",
    "version": 3
   },
   "file_extension": ".py",
   "mimetype": "text/x-python",
   "name": "python",
   "nbconvert_exporter": "python",
   "pygments_lexer": "ipython3",
   "version": "3.12.8"
  }
 },
 "nbformat": 4,
 "nbformat_minor": 5
}
